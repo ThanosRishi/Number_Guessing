{
  "nbformat": 4,
  "nbformat_minor": 0,
  "metadata": {
    "colab": {
      "provenance": []
    },
    "kernelspec": {
      "name": "python3",
      "display_name": "Python 3"
    },
    "language_info": {
      "name": "python"
    }
  },
  "cells": [
    {
      "cell_type": "code",
      "execution_count": 1,
      "metadata": {
        "colab": {
          "base_uri": "https://localhost:8080/"
        },
        "id": "4kmUk_WZSM3D",
        "outputId": "06297830-aff0-4161-e4e6-1d945e6657a9"
      },
      "outputs": [
        {
          "output_type": "stream",
          "name": "stdout",
          "text": [
            "Hello traveler! Welcome to the game of guesses!\n",
            "What is your name? Rishabh\n",
            "Hi, Rishabh, would you like to play the guessing game? (Enter Yes/No): yes\n",
            "There is currently no high score, it's yours for the taking!\n",
            "Pick a number between 1 and 10: 6\n",
            "It's higher\n",
            "Pick a number between 1 and 10: 9\n",
            "It's lower\n",
            "Pick a number between 1 and 10: 3\n",
            "It's higher\n",
            "Pick a number between 1 and 10: 1\n",
            "It's higher\n",
            "Pick a number between 1 and 10: 2\n",
            "It's higher\n",
            "Pick a number between 1 and 10: 7\n",
            "It's higher\n",
            "Pick a number between 1 and 10: 8\n",
            "Nice! You got it!\n",
            "It took you 7 attempts\n",
            "Would you like to play again? (Enter Yes/No): yes\n",
            "The current high score is 1 attempts\n",
            "Pick a number between 1 and 10: 5\n",
            "It's higher\n",
            "Pick a number between 1 and 10: 8\n",
            "It's higher\n",
            "Pick a number between 1 and 10: 9\n",
            "Nice! You got it!\n",
            "It took you 3 attempts\n",
            "Would you like to play again? (Enter Yes/No): no\n",
            "That's cool, have a good one!\n"
          ]
        }
      ],
      "source": [
        "import random\n",
        "\n",
        "attempts_list = []\n",
        "\n",
        "\n",
        "def show_score():\n",
        "    if not attempts_list:\n",
        "        print('There is currently no high score,'\n",
        "              ' it\\'s yours for the taking!')\n",
        "\n",
        "    else:\n",
        "        print(f'The current high score is'\n",
        "              f' {min(attempts_list)} attempts')\n",
        "\n",
        "\n",
        "def start_game():\n",
        "    attempts = 0\n",
        "    rand_num = random.randint(1, 10)\n",
        "    print('Hello traveler! Welcome to the game of guesses!')\n",
        "    player_name = input('What is your name? ')\n",
        "    wanna_play = input(\n",
        "        f'Hi, {player_name}, would you like to play '\n",
        "        f'the guessing game? (Enter Yes/No): ')\n",
        "\n",
        "    if wanna_play.lower() != 'yes':\n",
        "        print('That\\'s cool, Thanks!')\n",
        "        exit()\n",
        "    else:\n",
        "        show_score()\n",
        "\n",
        "    while wanna_play.lower() == 'yes':\n",
        "        try:\n",
        "            guess = int(input('Pick a number between 1 and 10: '))\n",
        "            if guess < 1 or guess > 10:\n",
        "                raise ValueError(\n",
        "                    'Please guess a number within the given range')\n",
        "\n",
        "            attempts += 1\n",
        "            attempts_list.append(attempts)\n",
        "\n",
        "            if guess == rand_num:\n",
        "                print('Nice! You got it!')\n",
        "                print(f'It took you {attempts} attempts')\n",
        "                wanna_play = input(\n",
        "                    'Would you like to play again? (Enter Yes/No): ')\n",
        "                if wanna_play.lower() != 'yes':\n",
        "                    print('That\\'s cool, have a good one!')\n",
        "                    break\n",
        "                else:\n",
        "                    attempts = 0\n",
        "                    rand_num = random.randint(1, 10)\n",
        "                    show_score()\n",
        "                    continue\n",
        "            else:\n",
        "                if guess > rand_num:\n",
        "                    print('It\\'s lower')\n",
        "                elif guess < rand_num:\n",
        "                    print('It\\'s higher')\n",
        "\n",
        "        except ValueError as err:\n",
        "            print('Oh no!, that is not a valid value. Try again...')\n",
        "            print(err)\n",
        "\n",
        "\n",
        "if __name__ == '__main__':\n",
        "    start_game()"
      ]
    },
    {
      "cell_type": "code",
      "source": [],
      "metadata": {
        "id": "VitWE4LjUCPm"
      },
      "execution_count": null,
      "outputs": []
    }
  ]
}